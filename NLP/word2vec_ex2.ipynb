{
 "cells": [
  {
   "cell_type": "code",
   "execution_count": 1,
   "id": "b344bd64",
   "metadata": {},
   "outputs": [
    {
     "name": "stdout",
     "output_type": "stream",
     "text": [
      "Requirement already satisfied: gensim in /home/rgukt-basar/anaconda3/lib/python3.12/site-packages (4.3.3)\n",
      "Requirement already satisfied: numpy<2.0,>=1.18.5 in /home/rgukt-basar/anaconda3/lib/python3.12/site-packages (from gensim) (1.26.4)\n",
      "Requirement already satisfied: scipy<1.14.0,>=1.7.0 in /home/rgukt-basar/anaconda3/lib/python3.12/site-packages (from gensim) (1.13.1)\n",
      "Requirement already satisfied: smart-open>=1.8.1 in /home/rgukt-basar/anaconda3/lib/python3.12/site-packages (from gensim) (5.2.1)\n",
      "Note: you may need to restart the kernel to use updated packages.\n"
     ]
    }
   ],
   "source": [
    "pip install gensim"
   ]
  },
  {
   "cell_type": "code",
   "execution_count": 13,
   "id": "b4445c04",
   "metadata": {},
   "outputs": [],
   "source": [
    "from gensim.models import Word2Vec\n",
    "\n",
    "# Sample sentences\n",
    "sentences = [\n",
    "    [\"I\", \"love\", \"natural\", \"language\", \"processing\"],\n",
    "    [\"Deep\", \"learning\", \"is\", \"amazing\"],\n",
    "    [\"Word2Vec\", \"creates\", \"word\", \"embeddings\"],\n",
    "    [\"AI\", \"is\", \"the\", \"future\"],\n",
    "    [\"Machine\", \"learning\", \"is\", \"part\", \"of\", \"AI\"],\n",
    "    [\"king and queen in palace\"]\n",
    "]\n",
    "\n",
    "# Train Word2Vec model\n",
    "model = Word2Vec(sentences, vector_size=10, window=2, min_count=1, sg=1)  # sg=1 → Skip-gram, sg=0 → CBOW\n",
    "\n",
    "# Save model\n",
    "model.save(\"word2vec.model\")\n"
   ]
  },
  {
   "cell_type": "code",
   "execution_count": 14,
   "id": "d3047181",
   "metadata": {},
   "outputs": [
    {
     "name": "stdout",
     "output_type": "stream",
     "text": [
      "Vector for 'learning':\n",
      " [ 0.07311766  0.05070262  0.06757693  0.00762866  0.06350891 -0.03405366\n",
      " -0.00946401  0.05768573 -0.07521638 -0.03936104]\n"
     ]
    }
   ],
   "source": [
    "# Load the trained model\n",
    "model = Word2Vec.load(\"word2vec.model\")\n",
    "\n",
    "# Get vector for a word\n",
    "word_vector = model.wv[\"learning\"]\n",
    "print(\"Vector for 'learning':\\n\", word_vector)\n"
   ]
  },
  {
   "cell_type": "code",
   "execution_count": 15,
   "id": "860abecb",
   "metadata": {},
   "outputs": [
    {
     "name": "stdout",
     "output_type": "stream",
     "text": [
      "\n",
      "Words similar to 'learning': [('the', 0.4705304205417633), ('future', 0.42731547355651855), ('AI', 0.32937225699424744), ('is', 0.3004249036312103), ('amazing', 0.3002755641937256), ('I', 0.06813743710517883), ('creates', 0.05541812255978584), ('embeddings', -0.04376852884888649), ('processing', -0.058408722281455994), ('Word2Vec', -0.06334464251995087)]\n"
     ]
    }
   ],
   "source": [
    "# Find similar words\n",
    "similar_words = model.wv.most_similar(\"learning\")\n",
    "print(\"\\nWords similar to 'learning':\", similar_words)\n"
   ]
  },
  {
   "cell_type": "code",
   "execution_count": null,
   "id": "f418a1e6",
   "metadata": {
    "scrolled": true
   },
   "outputs": [],
   "source": []
  },
  {
   "cell_type": "code",
   "execution_count": null,
   "id": "b08a9237",
   "metadata": {},
   "outputs": [],
   "source": []
  },
  {
   "cell_type": "code",
   "execution_count": null,
   "id": "77d409a2",
   "metadata": {},
   "outputs": [],
   "source": []
  },
  {
   "cell_type": "code",
   "execution_count": null,
   "id": "84b317c4",
   "metadata": {},
   "outputs": [],
   "source": []
  }
 ],
 "metadata": {
  "kernelspec": {
   "display_name": "Python (myenv)",
   "language": "python",
   "name": "myenv"
  },
  "language_info": {
   "codemirror_mode": {
    "name": "ipython",
    "version": 3
   },
   "file_extension": ".py",
   "mimetype": "text/x-python",
   "name": "python",
   "nbconvert_exporter": "python",
   "pygments_lexer": "ipython3",
   "version": "3.12.3"
  }
 },
 "nbformat": 4,
 "nbformat_minor": 5
}
