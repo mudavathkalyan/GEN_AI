{
 "cells": [
  {
   "cell_type": "code",
   "execution_count": 6,
   "id": "dd82b916-244b-44b8-afa9-60bc05f0f6c3",
   "metadata": {},
   "outputs": [
    {
     "name": "stdout",
     "output_type": "stream",
     "text": [
      "cat: [0. 0. 1. 0. 0.]\n",
      "dog: [0. 0. 0. 1. 0.]\n",
      "fish: [0. 0. 0. 0. 1.]\n",
      "apple: [1. 0. 0. 0. 0.]\n",
      "banana: [0. 1. 0. 0. 0.]\n"
     ]
    }
   ],
   "source": [
    "from sklearn.preprocessing import OneHotEncoder\n",
    "import numpy as np\n",
    "\n",
    "# Define the words\n",
    "words = np.array([[\"cat\"], [\"dog\"], [\"fish\"], [\"apple\"], [\"banana\"]])\n",
    "\n",
    "# One-hot encoding\n",
    "encoder = OneHotEncoder(sparse_output=False)\n",
    "one_hot_vectors = encoder.fit_transform(words)\n",
    "\n",
    "# Print results\n",
    "for word, vector in zip(words, one_hot_vectors):\n",
    "    print(f\"{word[0]}: {vector}\")\n"
   ]
  },
  {
   "cell_type": "code",
   "execution_count": null,
   "id": "ad21f756-281a-4025-8120-09d1a8d64b3c",
   "metadata": {},
   "outputs": [],
   "source": []
  },
  {
   "cell_type": "code",
   "execution_count": null,
   "id": "ef645136-2015-41d6-bcb0-8e03e00437d0",
   "metadata": {},
   "outputs": [],
   "source": []
  }
 ],
 "metadata": {
  "kernelspec": {
   "display_name": "Python (myenv)",
   "language": "python",
   "name": "myenv"
  },
  "language_info": {
   "codemirror_mode": {
    "name": "ipython",
    "version": 3
   },
   "file_extension": ".py",
   "mimetype": "text/x-python",
   "name": "python",
   "nbconvert_exporter": "python",
   "pygments_lexer": "ipython3",
   "version": "3.12.3"
  }
 },
 "nbformat": 4,
 "nbformat_minor": 5
}
